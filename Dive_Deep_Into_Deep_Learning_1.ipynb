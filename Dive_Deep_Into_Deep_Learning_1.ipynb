{
  "nbformat": 4,
  "nbformat_minor": 0,
  "metadata": {
    "colab": {
      "name": "Dive Deep Into Deep Learning 1.ipynb",
      "provenance": [],
      "collapsed_sections": [],
      "authorship_tag": "ABX9TyOPUekNp+Bv9QKTMpG9tvVV",
      "include_colab_link": true
    },
    "kernelspec": {
      "name": "python3",
      "display_name": "Python 3"
    },
    "accelerator": "TPU"
  },
  "cells": [
    {
      "cell_type": "markdown",
      "metadata": {
        "id": "view-in-github",
        "colab_type": "text"
      },
      "source": [
        "<a href=\"https://colab.research.google.com/github/prd-dahal/Dive-Deep-Into-Deep-Learning/blob/master/Dive_Deep_Into_Deep_Learning_1.ipynb\" target=\"_parent\"><img src=\"https://colab.research.google.com/assets/colab-badge.svg\" alt=\"Open In Colab\"/></a>"
      ]
    },
    {
      "cell_type": "code",
      "metadata": {
        "id": "IsL8ZYO8ge-_",
        "colab_type": "code",
        "colab": {}
      },
      "source": [
        "#import dependencies \n",
        "import numpy as np"
      ],
      "execution_count": null,
      "outputs": []
    },
    {
      "cell_type": "code",
      "metadata": {
        "id": "x-21ox3AXgvU",
        "colab_type": "code",
        "colab": {}
      },
      "source": [
        "# l1 loss \n",
        "def l_one_loss(y,y_bar):\n",
        "    return np.sum(abs(y-y_bar))\n",
        "\n",
        "\n",
        "#l2 loss \n",
        "def l_two_loss(y,y_bar):\n",
        "  return np.sum((y-y_bar)**2)\n",
        "\n"
      ],
      "execution_count": null,
      "outputs": []
    },
    {
      "cell_type": "markdown",
      "metadata": {
        "id": "KnFRM1GsE3Cp",
        "colab_type": "text"
      },
      "source": [
        "**Data Manipulation**\n"
      ]
    },
    {
      "cell_type": "code",
      "metadata": {
        "id": "FTFfCgODhDEl",
        "colab_type": "code",
        "colab": {
          "base_uri": "https://localhost:8080/",
          "height": 190
        },
        "outputId": "1addebfe-85ac-44e1-e5e5-9be256e36359"
      },
      "source": [
        "!pip install mxnet\n",
        "\n",
        "from mxnet import np, npx\n",
        "x = np.arange(12)\n",
        "x"
      ],
      "execution_count": 68,
      "outputs": [
        {
          "output_type": "stream",
          "text": [
            "Requirement already satisfied: mxnet in /usr/local/lib/python3.6/dist-packages (1.7.0.post1)\n",
            "Requirement already satisfied: requests<3,>=2.20.0 in /usr/local/lib/python3.6/dist-packages (from mxnet) (2.23.0)\n",
            "Requirement already satisfied: numpy<2.0.0,>1.16.0 in /usr/local/lib/python3.6/dist-packages (from mxnet) (1.18.5)\n",
            "Requirement already satisfied: graphviz<0.9.0,>=0.8.1 in /usr/local/lib/python3.6/dist-packages (from mxnet) (0.8.4)\n",
            "Requirement already satisfied: certifi>=2017.4.17 in /usr/local/lib/python3.6/dist-packages (from requests<3,>=2.20.0->mxnet) (2020.6.20)\n",
            "Requirement already satisfied: chardet<4,>=3.0.2 in /usr/local/lib/python3.6/dist-packages (from requests<3,>=2.20.0->mxnet) (3.0.4)\n",
            "Requirement already satisfied: idna<3,>=2.5 in /usr/local/lib/python3.6/dist-packages (from requests<3,>=2.20.0->mxnet) (2.10)\n",
            "Requirement already satisfied: urllib3!=1.25.0,!=1.25.1,<1.26,>=1.21.1 in /usr/local/lib/python3.6/dist-packages (from requests<3,>=2.20.0->mxnet) (1.24.3)\n"
          ],
          "name": "stdout"
        },
        {
          "output_type": "execute_result",
          "data": {
            "text/plain": [
              "array([ 0.,  1.,  2.,  3.,  4.,  5.,  6.,  7.,  8.,  9., 10., 11.])"
            ]
          },
          "metadata": {
            "tags": []
          },
          "execution_count": 68
        }
      ]
    },
    {
      "cell_type": "code",
      "metadata": {
        "id": "O5qnGamOQmQD",
        "colab_type": "code",
        "colab": {
          "base_uri": "https://localhost:8080/",
          "height": 34
        },
        "outputId": "297d998c-ae73-48e8-eb3b-b3a2e94e7a49"
      },
      "source": [
        "x.shape\n"
      ],
      "execution_count": 50,
      "outputs": [
        {
          "output_type": "execute_result",
          "data": {
            "text/plain": [
              "(12,)"
            ]
          },
          "metadata": {
            "tags": []
          },
          "execution_count": 50
        }
      ]
    },
    {
      "cell_type": "code",
      "metadata": {
        "id": "lMQk0KqIQoCj",
        "colab_type": "code",
        "colab": {
          "base_uri": "https://localhost:8080/",
          "height": 34
        },
        "outputId": "e259384e-cfa2-4106-c276-9fa19222481c"
      },
      "source": [
        "x.size"
      ],
      "execution_count": 7,
      "outputs": [
        {
          "output_type": "execute_result",
          "data": {
            "text/plain": [
              "12"
            ]
          },
          "metadata": {
            "tags": []
          },
          "execution_count": 7
        }
      ]
    },
    {
      "cell_type": "code",
      "metadata": {
        "id": "iWgwnuetQoub",
        "colab_type": "code",
        "colab": {
          "base_uri": "https://localhost:8080/",
          "height": 68
        },
        "outputId": "5b426192-da51-4a82-a907-b187276b8564"
      },
      "source": [
        "X= x.reshape(3,4)\n",
        "X"
      ],
      "execution_count": 10,
      "outputs": [
        {
          "output_type": "execute_result",
          "data": {
            "text/plain": [
              "array([[ 0,  1,  2,  3],\n",
              "       [ 4,  5,  6,  7],\n",
              "       [ 8,  9, 10, 11]])"
            ]
          },
          "metadata": {
            "tags": []
          },
          "execution_count": 10
        }
      ]
    },
    {
      "cell_type": "code",
      "metadata": {
        "id": "Q60o8VVjQuix",
        "colab_type": "code",
        "colab": {
          "base_uri": "https://localhost:8080/",
          "height": 68
        },
        "outputId": "fdf7ef9c-5f8a-4407-f84b-e7fa141cd498"
      },
      "source": [
        "x.reshape(3,-1)"
      ],
      "execution_count": 13,
      "outputs": [
        {
          "output_type": "execute_result",
          "data": {
            "text/plain": [
              "array([[ 0,  1,  2,  3],\n",
              "       [ 4,  5,  6,  7],\n",
              "       [ 8,  9, 10, 11]])"
            ]
          },
          "metadata": {
            "tags": []
          },
          "execution_count": 13
        }
      ]
    },
    {
      "cell_type": "code",
      "metadata": {
        "id": "T2dtlpX_Q7TB",
        "colab_type": "code",
        "colab": {
          "base_uri": "https://localhost:8080/",
          "height": 136
        },
        "outputId": "a09ac998-ec0a-4cc7-a37e-1e60da0b8240"
      },
      "source": [
        "np.zeros((2,3,4))"
      ],
      "execution_count": 15,
      "outputs": [
        {
          "output_type": "execute_result",
          "data": {
            "text/plain": [
              "array([[[0., 0., 0., 0.],\n",
              "        [0., 0., 0., 0.],\n",
              "        [0., 0., 0., 0.]],\n",
              "\n",
              "       [[0., 0., 0., 0.],\n",
              "        [0., 0., 0., 0.],\n",
              "        [0., 0., 0., 0.]]])"
            ]
          },
          "metadata": {
            "tags": []
          },
          "execution_count": 15
        }
      ]
    },
    {
      "cell_type": "code",
      "metadata": {
        "id": "eL9cQODnRD3h",
        "colab_type": "code",
        "colab": {
          "base_uri": "https://localhost:8080/",
          "height": 136
        },
        "outputId": "c30f646d-8d73-44cb-ebe8-877ac6b10a76"
      },
      "source": [
        " np.ones((2,3,4))"
      ],
      "execution_count": 17,
      "outputs": [
        {
          "output_type": "execute_result",
          "data": {
            "text/plain": [
              "array([[[1., 1., 1., 1.],\n",
              "        [1., 1., 1., 1.],\n",
              "        [1., 1., 1., 1.]],\n",
              "\n",
              "       [[1., 1., 1., 1.],\n",
              "        [1., 1., 1., 1.],\n",
              "        [1., 1., 1., 1.]]])"
            ]
          },
          "metadata": {
            "tags": []
          },
          "execution_count": 17
        }
      ]
    },
    {
      "cell_type": "code",
      "metadata": {
        "id": "4goiUmnZRGxo",
        "colab_type": "code",
        "colab": {
          "base_uri": "https://localhost:8080/",
          "height": 68
        },
        "outputId": "c3808f14-3c69-4e83-fbb1-819ffd178121"
      },
      "source": [
        "np.random.normal(0,1,size=(3,4))"
      ],
      "execution_count": 21,
      "outputs": [
        {
          "output_type": "execute_result",
          "data": {
            "text/plain": [
              "array([[ 1.31593511,  0.24425028, -0.67601859,  0.4109992 ],\n",
              "       [ 0.17370989,  0.2535232 , -1.26774693,  1.23403455],\n",
              "       [-1.2132296 , -1.00151984, -1.84401594,  2.07923729]])"
            ]
          },
          "metadata": {
            "tags": []
          },
          "execution_count": 21
        }
      ]
    },
    {
      "cell_type": "code",
      "metadata": {
        "id": "4PiBZlW_RlnJ",
        "colab_type": "code",
        "colab": {
          "base_uri": "https://localhost:8080/",
          "height": 102
        },
        "outputId": "fb9fdf9a-ff94-4246-9eaf-ec18c9585b14"
      },
      "source": [
        "x = np.array([1,2,4,8])\n",
        "y = np.array([2,2,2,2])\n",
        "x+y, x-y,x*y,x/y,x**y"
      ],
      "execution_count": 24,
      "outputs": [
        {
          "output_type": "execute_result",
          "data": {
            "text/plain": [
              "(array([ 3,  4,  6, 10]),\n",
              " array([-1,  0,  2,  6]),\n",
              " array([ 2,  4,  8, 16]),\n",
              " array([0.5, 1. , 2. , 4. ]),\n",
              " array([ 1,  4, 16, 64]))"
            ]
          },
          "metadata": {
            "tags": []
          },
          "execution_count": 24
        }
      ]
    },
    {
      "cell_type": "code",
      "metadata": {
        "id": "e6vucrrhSYQS",
        "colab_type": "code",
        "colab": {
          "base_uri": "https://localhost:8080/",
          "height": 34
        },
        "outputId": "e402da05-9916-4df0-886e-337e812bb085"
      },
      "source": [
        "np.exp(x)"
      ],
      "execution_count": 26,
      "outputs": [
        {
          "output_type": "execute_result",
          "data": {
            "text/plain": [
              "array([2.71828183e+00, 7.38905610e+00, 5.45981500e+01, 2.98095799e+03])"
            ]
          },
          "metadata": {
            "tags": []
          },
          "execution_count": 26
        }
      ]
    },
    {
      "cell_type": "code",
      "metadata": {
        "id": "zWgb3Pm_Scog",
        "colab_type": "code",
        "colab": {
          "base_uri": "https://localhost:8080/",
          "height": 119
        },
        "outputId": "97d38fd0-7487-43e6-c8c6-06df6dff59db"
      },
      "source": [
        "X = np.arange(12).reshape(3,4)\n",
        "Y = np.array([[2,1,3,4],[1,2,3,4],[4,3,2,1]])\n",
        "np.concatenate([X,Y], axis=0)"
      ],
      "execution_count": 33,
      "outputs": [
        {
          "output_type": "execute_result",
          "data": {
            "text/plain": [
              "array([[ 0,  1,  2,  3],\n",
              "       [ 4,  5,  6,  7],\n",
              "       [ 8,  9, 10, 11],\n",
              "       [ 2,  1,  3,  4],\n",
              "       [ 1,  2,  3,  4],\n",
              "       [ 4,  3,  2,  1]])"
            ]
          },
          "metadata": {
            "tags": []
          },
          "execution_count": 33
        }
      ]
    },
    {
      "cell_type": "code",
      "metadata": {
        "id": "0uU_-XpiTRui",
        "colab_type": "code",
        "colab": {
          "base_uri": "https://localhost:8080/",
          "height": 68
        },
        "outputId": "49e2c6f7-4185-4ce5-f1fc-e23085212dbd"
      },
      "source": [
        "X ==Y"
      ],
      "execution_count": 35,
      "outputs": [
        {
          "output_type": "execute_result",
          "data": {
            "text/plain": [
              "array([[False,  True, False, False],\n",
              "       [False, False, False, False],\n",
              "       [False, False, False, False]])"
            ]
          },
          "metadata": {
            "tags": []
          },
          "execution_count": 35
        }
      ]
    },
    {
      "cell_type": "markdown",
      "metadata": {
        "id": "gNVYuSzTUKuK",
        "colab_type": "text"
      },
      "source": [
        "Saving Memory"
      ]
    },
    {
      "cell_type": "code",
      "metadata": {
        "id": "Tzq2GAdXTTrQ",
        "colab_type": "code",
        "colab": {
          "base_uri": "https://localhost:8080/",
          "height": 34
        },
        "outputId": "abc8c078-9a1a-489b-e9af-914cc06dc22d"
      },
      "source": [
        "before = id(Y)\n",
        "before\n",
        "Y = Y + X\n",
        "id(Y) == before"
      ],
      "execution_count": 39,
      "outputs": [
        {
          "output_type": "execute_result",
          "data": {
            "text/plain": [
              "False"
            ]
          },
          "metadata": {
            "tags": []
          },
          "execution_count": 39
        }
      ]
    },
    {
      "cell_type": "code",
      "metadata": {
        "id": "vRcsHG-MUCig",
        "colab_type": "code",
        "colab": {
          "base_uri": "https://localhost:8080/",
          "height": 34
        },
        "outputId": "efc85e31-ed7b-4b5b-aa49-81976a904a51"
      },
      "source": [
        "Y = 3\n",
        "X = 2 \n",
        "Y = Y+X\n",
        "print(Y)"
      ],
      "execution_count": 41,
      "outputs": [
        {
          "output_type": "stream",
          "text": [
            "5\n"
          ],
          "name": "stdout"
        }
      ]
    },
    {
      "cell_type": "code",
      "metadata": {
        "id": "R07cQuBvUNyo",
        "colab_type": "code",
        "colab": {
          "base_uri": "https://localhost:8080/",
          "height": 51
        },
        "outputId": "7e8b3ae3-303c-4585-e2c2-fe1cce78cb26"
      },
      "source": [
        "Z = np.zeros_like(Y)\n",
        "print('id(Z):', id(Z))\n",
        "X+= Y\n",
        "print('id(Z):', id(Z))\n"
      ],
      "execution_count": 48,
      "outputs": [
        {
          "output_type": "stream",
          "text": [
            "id(Z): 140525476883552\n",
            "id(Z): 140525476883552\n"
          ],
          "name": "stdout"
        }
      ]
    },
    {
      "cell_type": "markdown",
      "metadata": {
        "id": "lB3CK7eRWWsK",
        "colab_type": "text"
      },
      "source": [
        ""
      ]
    },
    {
      "cell_type": "code",
      "metadata": {
        "id": "i6PqlPzfVagT",
        "colab_type": "code",
        "colab": {
          "base_uri": "https://localhost:8080/",
          "height": 54
        },
        "outputId": "d197a198-ced4-4914-d11c-aaad4897f9b3"
      },
      "source": [
        "import os\n",
        "print(os.listdir('/content/sample_data'))\n",
        "\n",
        "\n",
        "def mkdir_if_not_exist(path):\n",
        "  if not isinstance(path, str):\n",
        "    path = os.path.join(*path)\n",
        "  if not os.path.exists(path):\n",
        "    os.makedirs(path)\n",
        "  "
      ],
      "execution_count": 60,
      "outputs": [
        {
          "output_type": "stream",
          "text": [
            "['anscombe.json', 'README.md', 'california_housing_train.csv', 'mnist_train_small.csv', 'mnist_test.csv', 'california_housing_test.csv']\n"
          ],
          "name": "stdout"
        }
      ]
    },
    {
      "cell_type": "code",
      "metadata": {
        "id": "VceGLL3WWpO3",
        "colab_type": "code",
        "colab": {}
      },
      "source": [
        "data_file = '/content/data/house_tiny.csv'\n",
        "\n",
        "mkdir_if_not_exist('/content/data')\n",
        "\n",
        "with open(data_file, 'w') as f:\n",
        "  f.write('NUm Rooms, Alley, Price \\n')\n",
        "  f.write('NA, Pave, 127500\\n')\n",
        "  f.write('2,NA,106000\\n')\n",
        "  f.write('2,NA,106000\\n')\n",
        "  f.write('4,NA,178100\\n')\n",
        "  f.write('NA,NA,140000\\n')\n"
      ],
      "execution_count": 66,
      "outputs": []
    },
    {
      "cell_type": "code",
      "metadata": {
        "id": "NbXNnDGNXchx",
        "colab_type": "code",
        "colab": {
          "base_uri": "https://localhost:8080/",
          "height": 119
        },
        "outputId": "1f81bdd0-3834-4019-88b9-65ee8387f766"
      },
      "source": [
        "import pandas as pd\n",
        "data = pd.read_csv(data_file)\n",
        "print(data)"
      ],
      "execution_count": 67,
      "outputs": [
        {
          "output_type": "stream",
          "text": [
            "   NUm Rooms  Alley   Price \n",
            "0        NaN   Pave   127500\n",
            "1        2.0    NaN   106000\n",
            "2        2.0    NaN   106000\n",
            "3        4.0    NaN   178100\n",
            "4        NaN    NaN   140000\n"
          ],
          "name": "stdout"
        }
      ]
    },
    {
      "cell_type": "markdown",
      "metadata": {
        "id": "AJW5uYWMXxOd",
        "colab_type": "text"
      },
      "source": [
        "**Linear Algebra**\n"
      ]
    },
    {
      "cell_type": "code",
      "metadata": {
        "id": "ZjiBqBacXy64",
        "colab_type": "code",
        "colab": {
          "base_uri": "https://localhost:8080/",
          "height": 34
        },
        "outputId": "c2e77434-9e0f-4970-e454-0d7d2171ef59"
      },
      "source": [
        "A = np.array([[2,3],\n",
        "     [4,5]])\n",
        "print(A.sum(axis =0, keepdims=True))"
      ],
      "execution_count": 73,
      "outputs": [
        {
          "output_type": "stream",
          "text": [
            "[[6. 8.]]\n"
          ],
          "name": "stdout"
        }
      ]
    },
    {
      "cell_type": "code",
      "metadata": {
        "id": "h-ocafHn5MN0",
        "colab_type": "code",
        "colab": {
          "base_uri": "https://localhost:8080/",
          "height": 102
        },
        "outputId": "a4193176-771e-4ea4-8307-ed1794e95e1e"
      },
      "source": [
        "from IPython import display\n",
        "from mxnet import np, npx\n",
        "npx.set_np()\n",
        "\n",
        "def f(x):\n",
        "    return 3*x**2 -4*x\n",
        "\n",
        "def numerical_lim(f,x,h):\n",
        "  return (f(x+h)-f(x))/h\n",
        "\n",
        "h = 0.1\n",
        "for i in range(5):\n",
        "  print(\"h = {}, numercial limit ={}\".format(h, numerical_lim(f,1,h)))\n",
        "  h *=0.1"
      ],
      "execution_count": 81,
      "outputs": [
        {
          "output_type": "stream",
          "text": [
            "h = 0.1, numercial limit =2.3000000000000043\n",
            "h = 0.010000000000000002, numercial limit =2.029999999999976\n",
            "h = 0.0010000000000000002, numercial limit =2.0029999999993104\n",
            "h = 0.00010000000000000003, numercial limit =2.000299999997956\n",
            "h = 1.0000000000000004e-05, numercial limit =2.0000300000155837\n"
          ],
          "name": "stdout"
        }
      ]
    },
    {
      "cell_type": "code",
      "metadata": {
        "id": "7flfhTyc8FMx",
        "colab_type": "code",
        "colab": {}
      },
      "source": [
        ""
      ],
      "execution_count": null,
      "outputs": []
    }
  ]
}